{
 "cells": [
  {
   "cell_type": "code",
   "execution_count": 68,
   "metadata": {},
   "outputs": [],
   "source": [
    "import sys\n",
    "import math\n",
    "import statistics\n",
    "import csv "
   ]
  },
  {
   "cell_type": "code",
   "execution_count": 69,
   "metadata": {},
   "outputs": [],
   "source": [
    "def z_score(values):\n",
    "    \n",
    "    avg = statistics.mean(values)\n",
    "    N = len(values)\n",
    "    \n",
    "    std = math.sqrt((1/(N-1))* sum([math.pow((x - avg), 2) for x in values]))\n",
    "    \n",
    "    norm_vals = []\n",
    "    \n",
    "    norm_vals = [(val - avg)/(std) for val in values]\n",
    "    \n",
    "    return norm_vals"
   ]
  },
  {
   "cell_type": "code",
   "execution_count": 73,
   "metadata": {},
   "outputs": [],
   "source": [
    "#file = open(sys.srgv[1])\n",
    "\n",
    "file = open(\"input.txt\")\n",
    "\n",
    "data = [] \n",
    "out = []\n",
    "for line in file:\n",
    "    data.append([ float(x) for x in line.split()])\n",
    "\n",
    "num_cols = len(data[0])\n",
    "\n",
    "for i in range(num_cols):\n",
    "    column = [x[i] for x in data]\n",
    "    out.append(z_score(column))\n",
    "    \n",
    "out = zip(*out)"
   ]
  },
  {
   "cell_type": "code",
   "execution_count": 74,
   "metadata": {},
   "outputs": [],
   "source": [
    "with open('output.txt', 'w') as csvfile:\n",
    "    writer = csv.writer(csvfile, delimiter='\\t')\n",
    "    writer.writerows(out)\n"
   ]
  },
  {
   "cell_type": "code",
   "execution_count": null,
   "metadata": {},
   "outputs": [],
   "source": []
  }
 ],
 "metadata": {
  "kernelspec": {
   "display_name": "Python 3",
   "language": "python",
   "name": "python3"
  },
  "language_info": {
   "codemirror_mode": {
    "name": "ipython",
    "version": 3
   },
   "file_extension": ".py",
   "mimetype": "text/x-python",
   "name": "python",
   "nbconvert_exporter": "python",
   "pygments_lexer": "ipython3",
   "version": "3.7.0"
  }
 },
 "nbformat": 4,
 "nbformat_minor": 2
}
